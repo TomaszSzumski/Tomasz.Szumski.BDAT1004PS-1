{
 "cells": [
  {
   "cell_type": "markdown",
   "metadata": {},
   "source": [
    "Tomasz Szumski\n",
    "Problem Set 1"
   ]
  },
  {
   "cell_type": "markdown",
   "metadata": {},
   "source": [
    "Question 1"
   ]
  },
  {
   "cell_type": "code",
   "execution_count": 1,
   "metadata": {
    "scrolled": true
   },
   "outputs": [
    {
     "data": {
      "text/plain": [
       "int"
      ]
     },
     "execution_count": 1,
     "metadata": {},
     "output_type": "execute_result"
    }
   ],
   "source": [
    "type(5)"
   ]
  },
  {
   "cell_type": "code",
   "execution_count": 2,
   "metadata": {},
   "outputs": [
    {
     "data": {
      "text/plain": [
       "float"
      ]
     },
     "execution_count": 2,
     "metadata": {},
     "output_type": "execute_result"
    }
   ],
   "source": [
    "type (5.0)"
   ]
  },
  {
   "cell_type": "code",
   "execution_count": 3,
   "metadata": {},
   "outputs": [
    {
     "data": {
      "text/plain": [
       "bool"
      ]
     },
     "execution_count": 3,
     "metadata": {},
     "output_type": "execute_result"
    }
   ],
   "source": [
    "type (5>1)"
   ]
  },
  {
   "cell_type": "code",
   "execution_count": 4,
   "metadata": {},
   "outputs": [
    {
     "data": {
      "text/plain": [
       "str"
      ]
     },
     "execution_count": 4,
     "metadata": {},
     "output_type": "execute_result"
    }
   ],
   "source": [
    "type ('5')"
   ]
  },
  {
   "cell_type": "code",
   "execution_count": 5,
   "metadata": {},
   "outputs": [
    {
     "data": {
      "text/plain": [
       "int"
      ]
     },
     "execution_count": 5,
     "metadata": {},
     "output_type": "execute_result"
    }
   ],
   "source": [
    "type(5*2)"
   ]
  },
  {
   "cell_type": "code",
   "execution_count": 6,
   "metadata": {},
   "outputs": [
    {
     "data": {
      "text/plain": [
       "str"
      ]
     },
     "execution_count": 6,
     "metadata": {},
     "output_type": "execute_result"
    }
   ],
   "source": [
    "type('5'*2)"
   ]
  },
  {
   "cell_type": "code",
   "execution_count": 7,
   "metadata": {},
   "outputs": [
    {
     "data": {
      "text/plain": [
       "str"
      ]
     },
     "execution_count": 7,
     "metadata": {},
     "output_type": "execute_result"
    }
   ],
   "source": [
    "type('5'+'2')"
   ]
  },
  {
   "cell_type": "code",
   "execution_count": 8,
   "metadata": {},
   "outputs": [
    {
     "data": {
      "text/plain": [
       "float"
      ]
     },
     "execution_count": 8,
     "metadata": {},
     "output_type": "execute_result"
    }
   ],
   "source": [
    "type(5/2)"
   ]
  },
  {
   "cell_type": "code",
   "execution_count": 9,
   "metadata": {},
   "outputs": [
    {
     "data": {
      "text/plain": [
       "int"
      ]
     },
     "execution_count": 9,
     "metadata": {},
     "output_type": "execute_result"
    }
   ],
   "source": [
    "type(5//2)"
   ]
  },
  {
   "cell_type": "code",
   "execution_count": 11,
   "metadata": {},
   "outputs": [
    {
     "data": {
      "text/plain": [
       "list"
      ]
     },
     "execution_count": 11,
     "metadata": {},
     "output_type": "execute_result"
    }
   ],
   "source": [
    "type([5,2,1,])"
   ]
  },
  {
   "cell_type": "code",
   "execution_count": 12,
   "metadata": {},
   "outputs": [
    {
     "data": {
      "text/plain": [
       "bool"
      ]
     },
     "execution_count": 12,
     "metadata": {},
     "output_type": "execute_result"
    }
   ],
   "source": [
    "type(5 in [1,4,6])"
   ]
  },
  {
   "cell_type": "code",
   "execution_count": 15,
   "metadata": {},
   "outputs": [
    {
     "data": {
      "text/plain": [
       "float"
      ]
     },
     "execution_count": 15,
     "metadata": {},
     "output_type": "execute_result"
    }
   ],
   "source": [
    "import math\n",
    "type (math.pi)"
   ]
  },
  {
   "cell_type": "markdown",
   "metadata": {},
   "source": [
    "Question 2"
   ]
  },
  {
   "cell_type": "code",
   "execution_count": 29,
   "metadata": {},
   "outputs": [
    {
     "name": "stdout",
     "output_type": "stream",
     "text": [
      "string lenght : 36\n",
      "ice is a substring\n",
      "Bababadalgharaghtakamminarronnkonn is the longest\n"
     ]
    }
   ],
   "source": [
    "LongString = \"Supercalifragilisticexpialidocious'?\"\n",
    "#a evaluate string length\n",
    "print(\"string lenght : \" + str(len(LongString)))\n",
    "StringIce = \"ice\"\n",
    "#b check if string ice is a subset of LongString\n",
    "if StringIce in LongString :\n",
    "    print (StringIce + \" is a substring\")\n",
    "else:\n",
    "     print (StringIce + \" is not a substring\")\n",
    "\n",
    "#c Longest word\n",
    "LongString1 = \"Supercalifragilisticexpialidocious\"\n",
    "LongString2 =\"Honorificabilitudnitatibus\"\n",
    "LongString3 =\"Bababadalgharaghtakamminarronnkonn\"\n",
    "\n",
    "if len(LongString1) > len(LongString2) and len(LongString1) > len(LongString3):\n",
    "    print (LongString1 +\" is the longest\")\n",
    "elif len(LongString2) > len(LongString3):\n",
    "    print (LongString2 + \" is the longest\")\n",
    "else:\n",
    "    print (LongString3 + \" is the longest\")\n",
    "\n"
   ]
  },
  {
   "cell_type": "markdown",
   "metadata": {},
   "source": [
    "Question 3"
   ]
  },
  {
   "cell_type": "code",
   "execution_count": 35,
   "metadata": {},
   "outputs": [
    {
     "name": "stdout",
     "output_type": "stream",
     "text": [
      "Berlios is the first composer \n",
      "and Buxtehude is the last one in the dictionary.\n"
     ]
    }
   ],
   "source": [
    "ComposerArray = [\"Berlios\", \"Borodin\", \"Brian\", \"Bartok\",\"Bellini\",\"Buxtehude\",\"Bernstain\"]\n",
    "#Sort array to find first composer name\n",
    "ComposerArray.sort\n",
    "print (ComposerArray[0] + \" is the first composer \")\n",
    "#sort array to fing the last composer in a dictionary\n",
    "ComposerArray.sort (reverse=True)\n",
    "print ( \"and \" + ComposerArray[0] + \" is the last one in the dictionary.\")"
   ]
  },
  {
   "cell_type": "markdown",
   "metadata": {},
   "source": [
    "Question 4"
   ]
  },
  {
   "cell_type": "code",
   "execution_count": 52,
   "metadata": {},
   "outputs": [
    {
     "name": "stdout",
     "output_type": "stream",
     "text": [
      "appyhay\n",
      "enterway\n"
     ]
    }
   ],
   "source": [
    "#pig_Latin translator\n",
    "def pig (MyString):\n",
    "   \n",
    "    MyString = MyString.lower()\n",
    "    if MyString[0]  in  \"aeiou\":\n",
    "        MyString = MyString +\"way\"\n",
    "    else:\n",
    "        MyString = MyString[1:] + MyString[0] +\"ay\"\n",
    "    return MyString\n",
    "#word staring with consonant        \n",
    "WordString = pig (\"happy\")\n",
    "print (WordString)\n",
    "\n",
    "#word staring with vowel        \n",
    "WordString = pig (\"Enter\")\n",
    "print (WordString)"
   ]
  },
  {
   "cell_type": "markdown",
   "metadata": {},
   "source": [
    "Question 5"
   ]
  },
  {
   "cell_type": "code",
   "execution_count": 75,
   "metadata": {},
   "outputs": [
    {
     "name": "stdout",
     "output_type": "stream",
     "text": [
      "There are 15 patients of blood type A.\r\n",
      "There are 14 patients of blood type B.\r\n",
      "There are 13 patients of blood type AB.\r\n",
      "There are 15 patients of blood type O.\r\n",
      "There are 0 patients of blood type OO.\n"
     ]
    }
   ],
   "source": [
    "name = \"G:\\\\bloodtype.txt\"\n",
    "def bldcount(filename):   \n",
    "#open file\n",
    "    f = open(filename)\n",
    "    BloodString = f.read()\n",
    "    #calculates number oof patients with blood type\n",
    "    ab= str(BloodString.count('AB'))\n",
    "    a = str(BloodString.count('A '))\n",
    "    b = str(BloodString.count('B '))\n",
    "    o = str(BloodString.count('O '))\n",
    "    oo = str(BloodString.count('OO'))\n",
    "    f.close()\n",
    "    Report = \"There are \" + a + \" patients of blood type A.\" +'\\r\\n' \n",
    "    Report = Report + \"There are \" + b + \" patients of blood type B.\" +'\\r\\n' \n",
    "    Report = Report + \"There are \" + ab + \" patients of blood type AB.\" +'\\r\\n' \n",
    "    Report = Report + \"There are \" + o + \" patients of blood type O.\" +'\\r\\n' \n",
    "    Report = Report + \"There are \" + oo + \" patients of blood type OO.\" \n",
    "    \n",
    "    return Report\n",
    "BloodReport = bldcount(name)\n",
    "print(BloodReport)"
   ]
  },
  {
   "cell_type": "markdown",
   "metadata": {},
   "source": [
    "Question 6"
   ]
  },
  {
   "cell_type": "code",
   "execution_count": 103,
   "metadata": {},
   "outputs": [
    {
     "name": "stdout",
     "output_type": "stream",
     "text": [
      "122.96544\n",
      "1.241401\n"
     ]
    }
   ],
   "source": [
    "\n",
    "def curconv(Currency,Amount):   \n",
    "#open file\n",
    "    FileName = \"G:\\\\currency.txt\"\n",
    "    f = open(FileName)\n",
    "    CurrencyList = f.readlines()\n",
    "    f.close()\n",
    "    for CountryCode in CurrencyList:\n",
    "        \n",
    "#find Currency and exchange rate\n",
    "        if Currency in CountryCode:\n",
    "            CurrencyAmount = CountryCode.split()\n",
    "            USAmount = float(CurrencyAmount[1]) * Amount  \n",
    "            \n",
    "    return USAmount\n",
    "\n",
    "#Euro conversion into US$\n",
    "USD =curconv('EUR',100)\n",
    "print (USD)\n",
    "\n",
    "#Japanese Conversion into US $\n",
    "USD =curconv('JPY',100)\n",
    "print (USD)\n",
    "\n",
    "\n"
   ]
  },
  {
   "cell_type": "markdown",
   "metadata": {},
   "source": [
    "Question 7"
   ]
  },
  {
   "cell_type": "code",
   "execution_count": 106,
   "metadata": {},
   "outputs": [
    {
     "ename": "TypeError",
     "evalue": "unsupported operand type(s) for +: 'int' and 'str'",
     "output_type": "error",
     "traceback": [
      "\u001b[1;31m---------------------------------------------------------------------------\u001b[0m",
      "\u001b[1;31mTypeError\u001b[0m                                 Traceback (most recent call last)",
      "\u001b[1;32m<ipython-input-106-7815ec48973b>\u001b[0m in \u001b[0;36m<module>\u001b[1;34m\u001b[0m\n\u001b[1;32m----> 1\u001b[1;33m \u001b[1;36m6\u001b[0m\u001b[1;33m+\u001b[0m\u001b[1;34m'a'\u001b[0m\u001b[1;33m\u001b[0m\u001b[1;33m\u001b[0m\u001b[0m\n\u001b[0m",
      "\u001b[1;31mTypeError\u001b[0m: unsupported operand type(s) for +: 'int' and 'str'"
     ]
    }
   ],
   "source": [
    "6+'a'"
   ]
  },
  {
   "cell_type": "code",
   "execution_count": 107,
   "metadata": {},
   "outputs": [
    {
     "ename": "IndexError",
     "evalue": "list index out of range",
     "output_type": "error",
     "traceback": [
      "\u001b[1;31m---------------------------------------------------------------------------\u001b[0m",
      "\u001b[1;31mIndexError\u001b[0m                                Traceback (most recent call last)",
      "\u001b[1;32m<ipython-input-107-ba1ed99add61>\u001b[0m in \u001b[0;36m<module>\u001b[1;34m\u001b[0m\n\u001b[0;32m      1\u001b[0m \u001b[0mmylist\u001b[0m \u001b[1;33m=\u001b[0m \u001b[1;33m[\u001b[0m\u001b[1;36m1\u001b[0m\u001b[1;33m,\u001b[0m\u001b[1;36m2\u001b[0m\u001b[1;33m,\u001b[0m\u001b[1;36m3\u001b[0m\u001b[1;33m,\u001b[0m\u001b[1;36m4\u001b[0m\u001b[1;33m,\u001b[0m\u001b[1;36m5\u001b[0m\u001b[1;33m,\u001b[0m\u001b[1;36m6\u001b[0m\u001b[1;33m,\u001b[0m\u001b[1;36m7\u001b[0m\u001b[1;33m,\u001b[0m\u001b[1;36m8\u001b[0m\u001b[1;33m,\u001b[0m\u001b[1;36m9\u001b[0m\u001b[1;33m,\u001b[0m\u001b[1;36m10\u001b[0m\u001b[1;33m,\u001b[0m\u001b[1;36m11\u001b[0m\u001b[1;33m]\u001b[0m\u001b[1;33m\u001b[0m\u001b[1;33m\u001b[0m\u001b[0m\n\u001b[1;32m----> 2\u001b[1;33m \u001b[0mmylist\u001b[0m\u001b[1;33m[\u001b[0m\u001b[1;36m11\u001b[0m\u001b[1;33m]\u001b[0m\u001b[1;33m\u001b[0m\u001b[1;33m\u001b[0m\u001b[0m\n\u001b[0m",
      "\u001b[1;31mIndexError\u001b[0m: list index out of range"
     ]
    }
   ],
   "source": [
    "mylist = [1,2,3,4,5,6,7,8,9,10,11]\n",
    "mylist[11]"
   ]
  },
  {
   "cell_type": "code",
   "execution_count": 108,
   "metadata": {},
   "outputs": [
    {
     "ename": "ValueError",
     "evalue": "math domain error",
     "output_type": "error",
     "traceback": [
      "\u001b[1;31m---------------------------------------------------------------------------\u001b[0m",
      "\u001b[1;31mValueError\u001b[0m                                Traceback (most recent call last)",
      "\u001b[1;32m<ipython-input-108-d39e523296ce>\u001b[0m in \u001b[0;36m<module>\u001b[1;34m\u001b[0m\n\u001b[0;32m      1\u001b[0m \u001b[1;32mimport\u001b[0m \u001b[0mmath\u001b[0m\u001b[1;33m\u001b[0m\u001b[1;33m\u001b[0m\u001b[0m\n\u001b[1;32m----> 2\u001b[1;33m \u001b[0mmath\u001b[0m\u001b[1;33m.\u001b[0m\u001b[0msqrt\u001b[0m\u001b[1;33m(\u001b[0m\u001b[1;33m-\u001b[0m\u001b[1;36m1.0\u001b[0m\u001b[1;33m)\u001b[0m\u001b[1;33m\u001b[0m\u001b[1;33m\u001b[0m\u001b[0m\n\u001b[0m",
      "\u001b[1;31mValueError\u001b[0m: math domain error"
     ]
    }
   ],
   "source": [
    "import math\n",
    "math.sqrt(-1.0)"
   ]
  },
  {
   "cell_type": "code",
   "execution_count": 109,
   "metadata": {},
   "outputs": [
    {
     "ename": "NameError",
     "evalue": "name 'x' is not defined",
     "output_type": "error",
     "traceback": [
      "\u001b[1;31m---------------------------------------------------------------------------\u001b[0m",
      "\u001b[1;31mNameError\u001b[0m                                 Traceback (most recent call last)",
      "\u001b[1;32m<ipython-input-109-fc17d851ef81>\u001b[0m in \u001b[0;36m<module>\u001b[1;34m\u001b[0m\n\u001b[1;32m----> 1\u001b[1;33m \u001b[0mprint\u001b[0m\u001b[1;33m(\u001b[0m\u001b[0mx\u001b[0m\u001b[1;33m)\u001b[0m\u001b[1;33m\u001b[0m\u001b[1;33m\u001b[0m\u001b[0m\n\u001b[0m",
      "\u001b[1;31mNameError\u001b[0m: name 'x' is not defined"
     ]
    }
   ],
   "source": [
    "print(x)"
   ]
  },
  {
   "cell_type": "code",
   "execution_count": 110,
   "metadata": {},
   "outputs": [
    {
     "ename": "FileNotFoundError",
     "evalue": "[Errno 2] No such file or directory: 'G:\\\\currency1.txt'",
     "output_type": "error",
     "traceback": [
      "\u001b[1;31m---------------------------------------------------------------------------\u001b[0m",
      "\u001b[1;31mFileNotFoundError\u001b[0m                         Traceback (most recent call last)",
      "\u001b[1;32m<ipython-input-110-7149c43865d6>\u001b[0m in \u001b[0;36m<module>\u001b[1;34m\u001b[0m\n\u001b[1;32m----> 1\u001b[1;33m \u001b[0mf\u001b[0m\u001b[1;33m=\u001b[0m\u001b[0mopen\u001b[0m\u001b[1;33m(\u001b[0m\u001b[1;34m\"G:\\\\currency1.txt\"\u001b[0m\u001b[1;33m)\u001b[0m\u001b[1;33m\u001b[0m\u001b[1;33m\u001b[0m\u001b[0m\n\u001b[0m",
      "\u001b[1;31mFileNotFoundError\u001b[0m: [Errno 2] No such file or directory: 'G:\\\\currency1.txt'"
     ]
    }
   ],
   "source": [
    "f=open(\"G:\\\\currency1.txt\")"
   ]
  },
  {
   "cell_type": "markdown",
   "metadata": {},
   "source": [
    "Question 8"
   ]
  },
  {
   "cell_type": "code",
   "execution_count": 135,
   "metadata": {},
   "outputs": [
    {
     "name": "stdout",
     "output_type": "stream",
     "text": [
      "1 1 1 3 5 1 1 2 1 0 1 0 1 2 4 0 1 2 0 3 1 0 1 1 0 \n",
      "1 0 0 0 1 0 0 0 0 0 0 1 0 0 0 2 0 0 0 0 0 0 0 0 0 \n"
     ]
    }
   ],
   "source": [
    "\n",
    "def frequencies(string):\n",
    "    \n",
    "    Letters='abcdefghijklmnopqrstuvwxyz'\n",
    "    Letterslenght = len(Letters)\n",
    "    MyString = string.lower()\n",
    "    FrequenciesString =\"\"\n",
    "#find frequencies and write to a string    \n",
    "    for x in range(Letterslenght -1):\n",
    "        FrequenciesString = FrequenciesString +  str(MyString.count(Letters[x])) +' '\n",
    "    \n",
    "    return FrequenciesString\n",
    "        \n",
    "FrequenciesString =frequencies(\"The quick red fox got bored and went home.\")   \n",
    "print(FrequenciesString)\n",
    "FrequenciesString =frequencies(\"apple\")   \n",
    "print(FrequenciesString)\n",
    "\n"
   ]
  },
  {
   "cell_type": "markdown",
   "metadata": {},
   "source": [
    "Question 9"
   ]
  },
  {
   "cell_type": "code",
   "execution_count": 279,
   "metadata": {},
   "outputs": [
    {
     "name": "stdout",
     "output_type": "stream",
     "text": [
      "[2, 3, 5, 7, 11, 13, 17, 23, 25, 29, 37, 41, 43, 47, 53]\n",
      "[2, 3, 5, 7, 11, 13, 17, 23, 25, 29, 37, 41, 43, 47, 53, 61, 67, 71, 77, 83, 89, 91, 97, 107, 115, 119, 121, 127, 131, 143, 149, 157, 161, 173, 175, 179, 181, 193, 209, 211, 221, 223, 227, 233, 235, 239, 247, 257, 265, 277, 283, 287, 301, 307, 313, 329, 331, 337, 341, 353, 359, 361]\n",
      "[2, 3, 5, 7, 11, 13, 17, 23, 25, 29]\n"
     ]
    }
   ],
   "source": [
    "# there is a bug in my code - 19 should be a primary number\n",
    "def sieve(n):\n",
    "    \n",
    "    primeL=[]\n",
    "    templist=[]\n",
    "    L = list(range(2,n+1)) \n",
    "    while 2 == 2: \n",
    "        if len(L) == 0:\n",
    "            break\n",
    "        temp = L[0]\n",
    "        primeL.append(temp)\n",
    "        \n",
    "        for x in range (1, len(L)): \n",
    "           \n",
    "            if x % temp != 0:\n",
    "                templist.append(L[x])   \n",
    "        L = templist.copy()\n",
    "    \n",
    "        templist.clear()\n",
    "    return primeL\n",
    "  \n",
    "primel = sieve(56)\n",
    "print(primel)\n",
    "primel = sieve(368)\n",
    "print(primel)\n",
    "primel = sieve(32)\n",
    "print(primel)"
   ]
  },
  {
   "cell_type": "markdown",
   "metadata": {},
   "source": [
    "Question 10"
   ]
  },
  {
   "cell_type": "code",
   "execution_count": 278,
   "metadata": {},
   "outputs": [
    {
     "name": "stdout",
     "output_type": "stream",
     "text": [
      "1.7320508075688772\n"
     ]
    }
   ],
   "source": [
    "#calculate trangle area using Heron's Formula\n",
    "def trangleArea(a,b,c):\n",
    "    s = (a+b+c)/2\n",
    "    area = math.sqrt(s*(s-a)*(s-b)*(s-c))\n",
    "    return area\n",
    "\n",
    "area = trangleArea (2,2,2)\n",
    "print(str(area))"
   ]
  }
 ],
 "metadata": {
  "kernelspec": {
   "display_name": "Python 3",
   "language": "python",
   "name": "python3"
  },
  "language_info": {
   "codemirror_mode": {
    "name": "ipython",
    "version": 3
   },
   "file_extension": ".py",
   "mimetype": "text/x-python",
   "name": "python",
   "nbconvert_exporter": "python",
   "pygments_lexer": "ipython3",
   "version": "3.8.3"
  }
 },
 "nbformat": 4,
 "nbformat_minor": 4
}
